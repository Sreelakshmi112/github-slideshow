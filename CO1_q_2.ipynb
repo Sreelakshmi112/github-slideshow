{
  "nbformat": 4,
  "nbformat_minor": 0,
  "metadata": {
    "colab": {
      "name": "CO1 q.2.ipynb",
      "provenance": [],
      "authorship_tag": "ABX9TyMAuO+CfV6n5DR9sCUVQxh/",
      "include_colab_link": true
    },
    "kernelspec": {
      "name": "python3",
      "display_name": "Python 3"
    },
    "language_info": {
      "name": "python"
    }
  },
  "cells": [
    {
      "cell_type": "markdown",
      "metadata": {
        "id": "view-in-github",
        "colab_type": "text"
      },
      "source": [
        "<a href=\"https://colab.research.google.com/github/Sreelakshmi112/github-slideshow/blob/master/CO1_q_2.ipynb\" target=\"_parent\"><img src=\"https://colab.research.google.com/assets/colab-badge.svg\" alt=\"Open In Colab\"/></a>"
      ]
    },
    {
      "cell_type": "code",
      "execution_count": 1,
      "metadata": {
        "colab": {
          "base_uri": "https://localhost:8080/"
        },
        "id": "sqeXUrxHEwOS",
        "outputId": "b990c565-971c-4748-f80f-8bedad81686c"
      },
      "outputs": [
        {
          "output_type": "stream",
          "name": "stdout",
          "text": [
            "Array type  <class 'numpy.ndarray'>\n",
            "Array dimension  2\n",
            "Array shape  (2, 3)\n",
            "Array size  6\n"
          ]
        }
      ],
      "source": [
        "import numpy as np\n",
        "arr=np.array([[1,2,3],[4,5,6]])\n",
        "print(\"Array type \",type(arr))\n",
        "print(\"Array dimension \",arr.ndim)\n",
        "print(\"Array shape \",arr.shape)\n",
        "print(\"Array size \",arr.size)"
      ]
    },
    {
      "cell_type": "code",
      "source": [
        "list=[1,2,3,4,5,6]\n",
        "print(\"List to array \")\n",
        "print(np.asarray(list))"
      ],
      "metadata": {
        "colab": {
          "base_uri": "https://localhost:8080/"
        },
        "id": "ZHnvEGe1E8t7",
        "outputId": "2b78ac0a-e91f-4eda-feae-0e3f16d1bd5f"
      },
      "execution_count": 2,
      "outputs": [
        {
          "output_type": "stream",
          "name": "stdout",
          "text": [
            "List to array \n",
            "[1 2 3 4 5 6]\n"
          ]
        }
      ]
    },
    {
      "cell_type": "code",
      "source": [
        "l=[1,2,3]\n",
        "arr=np.array(l)\n",
        "print(\"One dimensional array \",arr)\n",
        "print(\"Dimension \",arr.ndim)"
      ],
      "metadata": {
        "colab": {
          "base_uri": "https://localhost:8080/"
        },
        "id": "Fguy06qpFBNP",
        "outputId": "7728cfee-7960-479c-aac6-c5c5d440e418"
      },
      "execution_count": 3,
      "outputs": [
        {
          "output_type": "stream",
          "name": "stdout",
          "text": [
            "One dimensional array  [1 2 3]\n",
            "Dimension  1\n"
          ]
        }
      ]
    },
    {
      "cell_type": "code",
      "source": [
        "arr=np.array([[1,2,3],[4,5,6]])\n",
        "print(\"Two dimensional array \",arr)\n",
        "print(\"Dimension \",arr.ndim)"
      ],
      "metadata": {
        "colab": {
          "base_uri": "https://localhost:8080/"
        },
        "id": "uzB2OMN6FGLx",
        "outputId": "b4904e37-e143-4981-c61e-4aca2277e083"
      },
      "execution_count": 4,
      "outputs": [
        {
          "output_type": "stream",
          "name": "stdout",
          "text": [
            "Two dimensional array  [[1 2 3]\n",
            " [4 5 6]]\n",
            "Dimension  2\n"
          ]
        }
      ]
    },
    {
      "cell_type": "code",
      "source": [
        "arr=np.array([[1,2,3],[9,4,5]])\n",
        "print(\"Shape \",arr.shape)\n",
        "print(arr)\n",
        "arr.shape=3,2\n",
        "print(arr)"
      ],
      "metadata": {
        "colab": {
          "base_uri": "https://localhost:8080/"
        },
        "id": "UyhZn8UOFMP9",
        "outputId": "c9759069-dc0d-418f-e15e-56357fd2f30a"
      },
      "execution_count": 5,
      "outputs": [
        {
          "output_type": "stream",
          "name": "stdout",
          "text": [
            "Shape  (2, 3)\n",
            "[[1 2 3]\n",
            " [9 4 5]]\n",
            "[[1 2]\n",
            " [3 9]\n",
            " [4 5]]\n"
          ]
        }
      ]
    },
    {
      "cell_type": "code",
      "source": [
        "a=np.zeros((3,3),dtype=int)\n",
        "print(a)"
      ],
      "metadata": {
        "colab": {
          "base_uri": "https://localhost:8080/"
        },
        "id": "8YteIAw1FTCi",
        "outputId": "a832f0dc-0f2b-4c0b-cba5-be40d6b7663d"
      },
      "execution_count": 6,
      "outputs": [
        {
          "output_type": "stream",
          "name": "stdout",
          "text": [
            "[[0 0 0]\n",
            " [0 0 0]\n",
            " [0 0 0]]\n"
          ]
        }
      ]
    },
    {
      "cell_type": "code",
      "source": [
        "a=np.ones((3,2),dtype=int)\n",
        "print(a)"
      ],
      "metadata": {
        "colab": {
          "base_uri": "https://localhost:8080/"
        },
        "id": "qRjw038CFX_N",
        "outputId": "0f23e9a1-4d7d-483c-fe78-1c17d9ec9e6d"
      },
      "execution_count": 7,
      "outputs": [
        {
          "output_type": "stream",
          "name": "stdout",
          "text": [
            "[[1 1]\n",
            " [1 1]\n",
            " [1 1]]\n"
          ]
        }
      ]
    },
    {
      "cell_type": "code",
      "source": [
        "a=np.eye(3,dtype=int)\n",
        "print(a)"
      ],
      "metadata": {
        "colab": {
          "base_uri": "https://localhost:8080/"
        },
        "id": "my-g03jCFcEa",
        "outputId": "ec257077-7538-468a-a2e1-d2c2ea66761b"
      },
      "execution_count": 8,
      "outputs": [
        {
          "output_type": "stream",
          "name": "stdout",
          "text": [
            "[[1 0 0]\n",
            " [0 1 0]\n",
            " [0 0 1]]\n"
          ]
        }
      ]
    },
    {
      "cell_type": "code",
      "source": [
        "print(\"A = \",np.arange(3,20,2))"
      ],
      "metadata": {
        "colab": {
          "base_uri": "https://localhost:8080/"
        },
        "id": "8jRliKDxFf5I",
        "outputId": "68718260-9229-4b31-8d79-408caa800759"
      },
      "execution_count": 9,
      "outputs": [
        {
          "output_type": "stream",
          "name": "stdout",
          "text": [
            "A =  [ 3  5  7  9 11 13 15 17 19]\n"
          ]
        }
      ]
    },
    {
      "cell_type": "code",
      "source": [
        "arr1=([[1,2,3],[4,5,6]])\n",
        "arr2=([[4,5,6],[9,7,8]])\n",
        "\n",
        "print(\"Sum of two matrix \",np.add(arr1,arr2))"
      ],
      "metadata": {
        "colab": {
          "base_uri": "https://localhost:8080/"
        },
        "id": "J8xtKPsaFlXG",
        "outputId": "cacad404-d836-4688-ce56-fff21a0c1560"
      },
      "execution_count": 10,
      "outputs": [
        {
          "output_type": "stream",
          "name": "stdout",
          "text": [
            "Sum of two matrix  [[ 5  7  9]\n",
            " [13 12 14]]\n"
          ]
        }
      ]
    },
    {
      "cell_type": "code",
      "source": [
        "a=([[6,7,8],[2,3,1]])\n",
        "b=([[8,7,6],[6,3,2]])\n",
        "print(\"A-B =\",np.subtract(a,b))\n",
        "print(\"B-A =\",np.subtract(b,a))\n",
        "print(\"A**2 =\",np.power(a,2))\n",
        "print(\"A*B =\",np.multiply(a,b))\n",
        "print(\"A/B =\",np.divide(a,b))"
      ],
      "metadata": {
        "colab": {
          "base_uri": "https://localhost:8080/"
        },
        "id": "hY3uLPp8Foez",
        "outputId": "a2b534c0-ead2-4299-c069-f3ee724528e9"
      },
      "execution_count": 11,
      "outputs": [
        {
          "output_type": "stream",
          "name": "stdout",
          "text": [
            "A-B = [[-2  0  2]\n",
            " [-4  0 -1]]\n",
            "B-A = [[ 2  0 -2]\n",
            " [ 4  0  1]]\n",
            "A**2 = [[36 49 64]\n",
            " [ 4  9  1]]\n",
            "A*B = [[48 49 48]\n",
            " [12  9  2]]\n",
            "A/B = [[0.75       1.         1.33333333]\n",
            " [0.33333333 1.         0.5       ]]\n"
          ]
        }
      ]
    },
    {
      "cell_type": "code",
      "source": [
        "print(\"A =\",np.linspace(1,10,num=5,endpoint=True,retstep=True))\n",
        "print(\"B =\",np.linspace(1,10,num=5,endpoint=True,retstep=True,dtype=int))\n",
        "print(\"c =\",np.linspace(1,10,num=5,endpoint=True))"
      ],
      "metadata": {
        "colab": {
          "base_uri": "https://localhost:8080/"
        },
        "id": "c05aaa5pFsuu",
        "outputId": "1042639a-4d3a-4a90-e5a3-81a19b5ca7e9"
      },
      "execution_count": 12,
      "outputs": [
        {
          "output_type": "stream",
          "name": "stdout",
          "text": [
            "A = (array([ 1.  ,  3.25,  5.5 ,  7.75, 10.  ]), 2.25)\n",
            "B = (array([ 1,  3,  5,  7, 10]), 2.25)\n",
            "c = [ 1.    3.25  5.5   7.75 10.  ]\n"
          ]
        }
      ]
    },
    {
      "cell_type": "code",
      "source": [
        "a=np.array([3,4,5,6,1,6])\n",
        "print(\"Original array= \",a)\n",
        "b=a.reshape(2,3)\n",
        "print(\"Reshaped array =\",b)"
      ],
      "metadata": {
        "colab": {
          "base_uri": "https://localhost:8080/"
        },
        "id": "4NbpybKsFz9N",
        "outputId": "2bb5920b-0db5-4e6f-ab92-6b0ff389f0a8"
      },
      "execution_count": 13,
      "outputs": [
        {
          "output_type": "stream",
          "name": "stdout",
          "text": [
            "Original array=  [3 4 5 6 1 6]\n",
            "Reshaped array = [[3 4 5]\n",
            " [6 1 6]]\n"
          ]
        }
      ]
    },
    {
      "cell_type": "code",
      "source": [
        "a=np.array([[1,2,3],[5,6,7]])\n",
        "b=np.resize(a,(3,2))\n",
        "print(\"Resized array =\",b)\n"
      ],
      "metadata": {
        "colab": {
          "base_uri": "https://localhost:8080/"
        },
        "id": "4TLN_eYUF5y_",
        "outputId": "c23787d4-92d1-4905-ce2d-a054f521ffd5"
      },
      "execution_count": 14,
      "outputs": [
        {
          "output_type": "stream",
          "name": "stdout",
          "text": [
            "Resized array = [[1 2]\n",
            " [3 5]\n",
            " [6 7]]\n"
          ]
        }
      ]
    }
  ]
}